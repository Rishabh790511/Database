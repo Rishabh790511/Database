{
 "cells": [
  {
   "cell_type": "code",
   "execution_count": null,
   "id": "3fc83ef6",
   "metadata": {},
   "outputs": [],
   "source": [
    "#Flask Framework:\n",
    "Flask is a lightweight and web application framework written in Python. It is designed to be simple, easy to use, and extensible. Flask follows the WSGI (Web Server Gateway Interface) standard and is widely used for developing web applications, RESTful APIs, and more.\n",
    "\n",
    "Advantages of Flask Framework:\n",
    "\n",
    "Lightweight: Flask is minimalistic and doesn't come with unnecessary components, allowing developers to choose the tools they need.\n",
    "Easy to Learn: Flask has a simple and straightforward syntax, making it easy for beginners to learn and start building web applications.\n",
    "Flexibility: Flask allows developers to choose their preferred tools and libraries, giving flexibility in building and structuring applications.\n",
    "Extensibility: Flask can be easily extended with various plugins to add features as needed.\n",
    "Integrated Development Server: Comes with a built-in development server for quick testing and debugging.\n",
    "Large Community: Flask has a large and active community, providing support, documentation, and a wide range of extensions.\n",
    "RESTful Support: Flask is well-suited for building RESTful APIs, making it popular for creating backend services."
   ]
  },
  {
   "cell_type": "code",
   "execution_count": 1,
   "id": "f8bcef81",
   "metadata": {},
   "outputs": [
    {
     "name": "stdout",
     "output_type": "stream",
     "text": [
      " * Serving Flask app '__main__'\n",
      " * Debug mode: on\n"
     ]
    },
    {
     "name": "stderr",
     "output_type": "stream",
     "text": [
      "WARNING: This is a development server. Do not use it in a production deployment. Use a production WSGI server instead.\n",
      " * Running on http://127.0.0.1:5000\n",
      "Press CTRL+C to quit\n",
      " * Restarting with watchdog (windowsapi)\n"
     ]
    },
    {
     "ename": "SystemExit",
     "evalue": "1",
     "output_type": "error",
     "traceback": [
      "An exception has occurred, use %tb to see the full traceback.\n",
      "\u001b[1;31mSystemExit\u001b[0m\u001b[1;31m:\u001b[0m 1\n"
     ]
    },
    {
     "name": "stderr",
     "output_type": "stream",
     "text": [
      "D:\\Users\\Acer\\anaconda3\\Lib\\site-packages\\IPython\\core\\interactiveshell.py:3534: UserWarning: To exit: use 'exit', 'quit', or Ctrl-D.\n",
      "  warn(\"To exit: use 'exit', 'quit', or Ctrl-D.\", stacklevel=1)\n"
     ]
    }
   ],
   "source": [
    "#Q2\n",
    "from flask import Flask\n",
    "\n",
    "app = Flask(__name__)\n",
    "\n",
    "@app.route('/')\n",
    "def hello_world():\n",
    "    return 'Hello World!!'\n",
    "\n",
    "if __name__ == '__main__':\n",
    "    app.run(debug=True)\n"
   ]
  },
  {
   "cell_type": "code",
   "execution_count": null,
   "id": "dc647a7b",
   "metadata": {},
   "outputs": [],
   "source": [
    "#Q3\n",
    "App Routing in Flask:\n",
    "App routing in Flask refers to defining URL patterns and associating them with specific functions or views. These URL patterns are called routes, and they define how the application responds to different HTTP requests.\n",
    "\n",
    "Why Use App Routes:\n",
    "\n",
    "URL Mapping: App routes allow you to map specific URLs to functions in your Flask application, defining how different parts of your application respond to incoming requests.\n",
    "Organized Code: Routes help organize your code by separating different functionalities into distinct functions associated with specific URLs.\n",
    "Modularity: Routes make your application modular, allowing you to add, remove, or modify features without affecting the entire application.\n",
    "Ease of Maintenance: With app routes, it's easier to understand the structure of your web application and maintain or update specific functionalities."
   ]
  },
  {
   "cell_type": "code",
   "execution_count": null,
   "id": "8be76d2b",
   "metadata": {},
   "outputs": [],
   "source": [
    "#Q4\n",
    "from flask import Flask, render_template\n",
    "\n",
    "app = Flask(__name__)\n",
    "\n",
    "@app.route('/')\n",
    "def home():\n",
    "    company_info = {\n",
    "        'company_name': 'ABC Corporation',\n",
    "        'location': 'India',\n",
    "        'contact_detail': '999-999-9999'\n",
    "    }\n",
    "    return render_template('home.html', company_info=company_info)\n",
    "\n",
    "@app.route('/welcome')\n",
    "def welcome():\n",
    "    return 'Welcome to ABC Corporation'\n",
    "\n",
    "if __name__ == '__main__':\n",
    "    app.run(debug=True)\n"
   ]
  },
  {
   "cell_type": "code",
   "execution_count": null,
   "id": "f7568e82",
   "metadata": {},
   "outputs": [],
   "source": []
  },
  {
   "cell_type": "code",
   "execution_count": null,
   "id": "384811ff",
   "metadata": {},
   "outputs": [],
   "source": []
  },
  {
   "cell_type": "code",
   "execution_count": null,
   "id": "5ae3543b",
   "metadata": {},
   "outputs": [],
   "source": []
  },
  {
   "cell_type": "code",
   "execution_count": null,
   "id": "4c2670e2",
   "metadata": {},
   "outputs": [],
   "source": []
  }
 ],
 "metadata": {
  "kernelspec": {
   "display_name": "Python 3 (ipykernel)",
   "language": "python",
   "name": "python3"
  },
  "language_info": {
   "codemirror_mode": {
    "name": "ipython",
    "version": 3
   },
   "file_extension": ".py",
   "mimetype": "text/x-python",
   "name": "python",
   "nbconvert_exporter": "python",
   "pygments_lexer": "ipython3",
   "version": "3.11.5"
  }
 },
 "nbformat": 4,
 "nbformat_minor": 5
}
