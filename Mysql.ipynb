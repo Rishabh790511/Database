{
 "cells": [
  {
   "cell_type": "code",
   "execution_count": 3,
   "id": "6118429b",
   "metadata": {},
   "outputs": [],
   "source": [
    "#Q1\n",
    "#A database is a structured collection of data that is organized in a way that allows efficient retrieval, storage, and manipulation of that data. It can store and retrieve data using various methods.\n",
    "#SQL (Structured Query Language) databases:\n",
    "\n",
    "#SQL databases are relational databases, meaning they use a structure that allows relationships between different tables of data.\n",
    "#They are table-based and use a predefined schema to define the structure of the data.\n",
    "#Examples include MySQL, PostgreSQL, and Microsoft SQL Server.\n",
    "#NoSQL databases:\n",
    "\n",
    "#NoSQL databases are non-relational, and they do not require a fixed schema, allowing for more flexible data models.\n",
    "#They can handle large amounts of unstructured data and are often used for real-time applications and big data.\n",
    "#Examples include MongoDB (document-based), Cassandra (wide-column store), and Redis (key-value store)."
   ]
  },
  {
   "cell_type": "code",
   "execution_count": 4,
   "id": "4426b7b8",
   "metadata": {},
   "outputs": [
    {
     "ename": "SyntaxError",
     "evalue": "invalid syntax (1642569868.py, line 2)",
     "output_type": "error",
     "traceback": [
      "\u001b[1;36m  Cell \u001b[1;32mIn[4], line 2\u001b[1;36m\u001b[0m\n\u001b[1;33m    CREATE TABLE Employees (\u001b[0m\n\u001b[1;37m           ^\u001b[0m\n\u001b[1;31mSyntaxError\u001b[0m\u001b[1;31m:\u001b[0m invalid syntax\n"
     ]
    }
   ],
   "source": [
    "CREATE TABLE Employees (\n",
    "    EmployeeID INT PRIMARY KEY,\n",
    "    FirstName VARCHAR(50),\n",
    "    LastName VARCHAR(50),\n",
    "    Age INT\n",
    ");\n"
   ]
  },
  {
   "cell_type": "code",
   "execution_count": 5,
   "id": "18b2a8ff",
   "metadata": {},
   "outputs": [
    {
     "ename": "SyntaxError",
     "evalue": "invalid syntax (3906446107.py, line 2)",
     "output_type": "error",
     "traceback": [
      "\u001b[1;36m  Cell \u001b[1;32mIn[5], line 2\u001b[1;36m\u001b[0m\n\u001b[1;33m    INSERT INTO Employees (EmployeeID, FirstName, LastName, Age)\u001b[0m\n\u001b[1;37m           ^\u001b[0m\n\u001b[1;31mSyntaxError\u001b[0m\u001b[1;31m:\u001b[0m invalid syntax\n"
     ]
    }
   ],
   "source": [
    "#Q2Update\n",
    "INSERT INTO Employees (EmployeeID, FirstName, LastName, Age)\n",
    "VALUES (1, 'John', 'Doe', 25);\n"
   ]
  },
  {
   "cell_type": "code",
   "execution_count": 6,
   "id": "bc90de1d",
   "metadata": {},
   "outputs": [
    {
     "ename": "SyntaxError",
     "evalue": "invalid syntax (4154005995.py, line 2)",
     "output_type": "error",
     "traceback": [
      "\u001b[1;36m  Cell \u001b[1;32mIn[6], line 2\u001b[1;36m\u001b[0m\n\u001b[1;33m    CREATE TABLE Grades (\u001b[0m\n\u001b[1;37m           ^\u001b[0m\n\u001b[1;31mSyntaxError\u001b[0m\u001b[1;31m:\u001b[0m invalid syntax\n"
     ]
    }
   ],
   "source": [
    "#Q5\n",
    "CREATE TABLE Grades (\n",
    "    GradeID INT PRIMARY KEY,\n",
    "    StudentID INT,\n",
    "    Grade VARCHAR(2),\n",
    "    FOREIGN KEY (StudentID) REFERENCES Students(StudentID)\n",
    ");\n"
   ]
  },
  {
   "cell_type": "code",
   "execution_count": 7,
   "id": "e9e75232",
   "metadata": {},
   "outputs": [
    {
     "ename": "ModuleNotFoundError",
     "evalue": "No module named 'mysql'",
     "output_type": "error",
     "traceback": [
      "\u001b[1;31m---------------------------------------------------------------------------\u001b[0m",
      "\u001b[1;31mModuleNotFoundError\u001b[0m                       Traceback (most recent call last)",
      "Cell \u001b[1;32mIn[7], line 2\u001b[0m\n\u001b[0;32m      1\u001b[0m \u001b[38;5;66;03m#Q6\u001b[39;00m\n\u001b[1;32m----> 2\u001b[0m \u001b[38;5;28;01mimport\u001b[39;00m \u001b[38;5;21;01mmysql\u001b[39;00m\u001b[38;5;21;01m.\u001b[39;00m\u001b[38;5;21;01mconnector\u001b[39;00m\n\u001b[0;32m      4\u001b[0m \u001b[38;5;66;03m# Connect to the MySQL database\u001b[39;00m\n\u001b[0;32m      5\u001b[0m conn \u001b[38;5;241m=\u001b[39m mysql\u001b[38;5;241m.\u001b[39mconnector\u001b[38;5;241m.\u001b[39mconnect(\n\u001b[0;32m      6\u001b[0m     host\u001b[38;5;241m=\u001b[39m\u001b[38;5;124m\"\u001b[39m\u001b[38;5;124myour_host\u001b[39m\u001b[38;5;124m\"\u001b[39m,\n\u001b[0;32m      7\u001b[0m     user\u001b[38;5;241m=\u001b[39m\u001b[38;5;124m\"\u001b[39m\u001b[38;5;124myour_user\u001b[39m\u001b[38;5;124m\"\u001b[39m,\n\u001b[0;32m      8\u001b[0m     password\u001b[38;5;241m=\u001b[39m\u001b[38;5;124m\"\u001b[39m\u001b[38;5;124myour_password\u001b[39m\u001b[38;5;124m\"\u001b[39m,\n\u001b[0;32m      9\u001b[0m     database\u001b[38;5;241m=\u001b[39m\u001b[38;5;124m\"\u001b[39m\u001b[38;5;124myour_database\u001b[39m\u001b[38;5;124m\"\u001b[39m\n\u001b[0;32m     10\u001b[0m )\n",
      "\u001b[1;31mModuleNotFoundError\u001b[0m: No module named 'mysql'"
     ]
    }
   ],
   "source": [
    "#Q6\n",
    "import mysql.connector\n",
    "\n",
    "# Connect to the MySQL database\n",
    "conn = mysql.connector.connect(\n",
    "    host=\"your_host\",\n",
    "    user=\"your_user\",\n",
    "    password=\"your_password\",\n",
    "    database=\"your_database\"\n",
    ")\n",
    "\n",
    "# Create a cursor object to interact with the database\n",
    "cursor = conn.cursor()\n",
    "\n",
    "# Example: Execute a SQL query using execute()\n",
    "cursor.execute(\"SELECT * FROM Employees\")\n",
    "\n",
    "# Fetch all the rows returned by the query\n",
    "rows = cursor.fetchall()\n",
    "\n",
    "# Display the results\n",
    "for row in rows:\n",
    "    print(row)\n",
    "\n",
    "# Close the cursor and connection\n",
    "cursor.close()\n",
    "conn.close()\n"
   ]
  },
  {
   "cell_type": "code",
   "execution_count": 8,
   "id": "6ce2b526",
   "metadata": {},
   "outputs": [
    {
     "ename": "SyntaxError",
     "evalue": "invalid syntax (4034305187.py, line 3)",
     "output_type": "error",
     "traceback": [
      "\u001b[1;36m  Cell \u001b[1;32mIn[8], line 3\u001b[1;36m\u001b[0m\n\u001b[1;33m    FROM: Specifies the table(s) from which to retrieve data.\u001b[0m\n\u001b[1;37m                    ^\u001b[0m\n\u001b[1;31mSyntaxError\u001b[0m\u001b[1;31m:\u001b[0m invalid syntax\n"
     ]
    }
   ],
   "source": [
    "#The order of execution of SQL clauses in an SQL query is as follows:\n",
    "\n",
    "FROM: Specifies the table(s) from which to retrieve data.\n",
    "WHERE: Filters the rows based on a specified condition.\n",
    "GROUP BY: Groups the result set based on specified columns.\n",
    "HAVING: Filters the grouped rows based on a specified condition.\n",
    "SELECT: Specifies the columns to be retrieved.\n",
    "ORDER BY: Sorts the result set based on specified columns.\n",
    "LIMIT/OFFSET: Limits the number of rows returned or skips a specified number of rows."
   ]
  },
  {
   "cell_type": "code",
   "execution_count": null,
   "id": "fdda55df",
   "metadata": {},
   "outputs": [],
   "source": []
  }
 ],
 "metadata": {
  "kernelspec": {
   "display_name": "Python 3 (ipykernel)",
   "language": "python",
   "name": "python3"
  },
  "language_info": {
   "codemirror_mode": {
    "name": "ipython",
    "version": 3
   },
   "file_extension": ".py",
   "mimetype": "text/x-python",
   "name": "python",
   "nbconvert_exporter": "python",
   "pygments_lexer": "ipython3",
   "version": "3.11.5"
  }
 },
 "nbformat": 4,
 "nbformat_minor": 5
}
